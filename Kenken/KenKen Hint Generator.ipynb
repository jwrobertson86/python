{
 "cells": [
  {
   "cell_type": "code",
   "execution_count": 1,
   "id": "0d78a8dd",
   "metadata": {},
   "outputs": [
    {
     "ename": "TypeError",
     "evalue": "unsupported operand type(s) for +: 'int' and 'list'",
     "output_type": "error",
     "traceback": [
      "\u001b[1;31m---------------------------------------------------------------------------\u001b[0m",
      "\u001b[1;31mTypeError\u001b[0m                                 Traceback (most recent call last)",
      "Cell \u001b[1;32mIn[1], line 4\u001b[0m\n\u001b[0;32m      2\u001b[0m firstNum \u001b[38;5;241m=\u001b[39m \u001b[38;5;241m8\u001b[39m\n\u001b[0;32m      3\u001b[0m nextNums \u001b[38;5;241m=\u001b[39m [\u001b[38;5;241m6\u001b[39m, \u001b[38;5;241m1\u001b[39m, \u001b[38;5;241m1\u001b[39m]\n\u001b[1;32m----> 4\u001b[0m firstNum \u001b[38;5;241m+\u001b[39m nextNums\n",
      "\u001b[1;31mTypeError\u001b[0m: unsupported operand type(s) for +: 'int' and 'list'"
     ]
    }
   ],
   "source": [
    "# First some knocking off of the rust.\n",
    "firstNum = 8\n",
    "nextNums = [6, 1, 1]\n",
    "firstNum + nextNums"
   ]
  },
  {
   "cell_type": "code",
   "execution_count": 4,
   "id": "c88b4442",
   "metadata": {},
   "outputs": [
    {
     "data": {
      "text/plain": [
       "[8, 6, 1, 1]"
      ]
     },
     "execution_count": 4,
     "metadata": {},
     "output_type": "execute_result"
    }
   ],
   "source": [
    "firstNum = [8]\n",
    "firstNum + nextNums"
   ]
  },
  {
   "cell_type": "code",
   "execution_count": 5,
   "id": "5ca5827f",
   "metadata": {},
   "outputs": [],
   "source": [
    "solutionSet = [firstNum + nextNums]"
   ]
  },
  {
   "cell_type": "code",
   "execution_count": 6,
   "id": "9e50860e",
   "metadata": {},
   "outputs": [
    {
     "data": {
      "text/plain": [
       "[[8, 6, 1, 1]]"
      ]
     },
     "execution_count": 6,
     "metadata": {},
     "output_type": "execute_result"
    }
   ],
   "source": [
    "solutionSet"
   ]
  },
  {
   "cell_type": "code",
   "execution_count": 7,
   "id": "859e3d1d",
   "metadata": {},
   "outputs": [
    {
     "data": {
      "text/plain": [
       "[[8, 6, 1, 1], 8, 5, 2, 1]"
      ]
     },
     "execution_count": 7,
     "metadata": {},
     "output_type": "execute_result"
    }
   ],
   "source": [
    "solutionSet + [8,5,2,1]"
   ]
  },
  {
   "cell_type": "code",
   "execution_count": 8,
   "id": "430f2b55",
   "metadata": {},
   "outputs": [
    {
     "data": {
      "text/plain": [
       "[[8, 6, 1, 1], [8, 5, 2, 1]]"
      ]
     },
     "execution_count": 8,
     "metadata": {},
     "output_type": "execute_result"
    }
   ],
   "source": [
    "solutionSet + [[8,5,2,1]]"
   ]
  },
  {
   "cell_type": "code",
   "execution_count": 10,
   "id": "258c177a",
   "metadata": {},
   "outputs": [
    {
     "data": {
      "text/plain": [
       "[[8, 6, 1, 1], [8, 5, 2, 1], [8, 5, 2, 1]]"
      ]
     },
     "execution_count": 10,
     "metadata": {},
     "output_type": "execute_result"
    }
   ],
   "source": [
    "solutionSet = solutionSet + [[8,5,2,1]]\n",
    "solutionSet"
   ]
  },
  {
   "cell_type": "code",
   "execution_count": 12,
   "id": "15b4dfd0",
   "metadata": {},
   "outputs": [
    {
     "data": {
      "text/plain": [
       "[[8, 6, 1, 1], [8, 5, 2, 1], [8, 5, 2, 1], [8, 4, 3, 1]]"
      ]
     },
     "execution_count": 12,
     "metadata": {},
     "output_type": "execute_result"
    }
   ],
   "source": [
    "# Oh okay, adding lists of lists together automatically re-saves it?\n",
    "solutionSet + [[8,4,3,1]]"
   ]
  },
  {
   "cell_type": "code",
   "execution_count": 13,
   "id": "07788233",
   "metadata": {},
   "outputs": [
    {
     "data": {
      "text/plain": [
       "[[8, 6, 1, 1], [8, 5, 2, 1], [8, 5, 2, 1]]"
      ]
     },
     "execution_count": 13,
     "metadata": {},
     "output_type": "execute_result"
    }
   ],
   "source": [
    "solutionSet"
   ]
  },
  {
   "cell_type": "code",
   "execution_count": 16,
   "id": "98b1110e",
   "metadata": {},
   "outputs": [
    {
     "name": "stdout",
     "output_type": "stream",
     "text": [
      "boo\n"
     ]
    }
   ],
   "source": [
    "# Oh no it's that I ran one twice never mind.\n",
    "# Okay, let's see about flags.\n",
    "a=[8,6,2,0]\n",
    "if (0 in a): print('boo')"
   ]
  },
  {
   "cell_type": "code",
   "execution_count": 17,
   "id": "e4069295",
   "metadata": {},
   "outputs": [
    {
     "name": "stdout",
     "output_type": "stream",
     "text": [
      "boo\n"
     ]
    }
   ],
   "source": [
    "a = [8,6,2, None]\n",
    "if (None in a): print('boo')"
   ]
  },
  {
   "cell_type": "markdown",
   "id": "6c864bab",
   "metadata": {},
   "source": [
    "So we have two options for sentinels. Sick."
   ]
  },
  {
   "cell_type": "code",
   "execution_count": 18,
   "id": "8a2d2ffd",
   "metadata": {},
   "outputs": [],
   "source": [
    "validTypes=('+','-','*','/')"
   ]
  },
  {
   "cell_type": "code",
   "execution_count": 23,
   "id": "deaa37a4",
   "metadata": {},
   "outputs": [
    {
     "name": "stdout",
     "output_type": "stream",
     "text": [
      "yay\n"
     ]
    }
   ],
   "source": [
    "if('+' in validTypes): print('yay')\n",
    "else: print('boo')"
   ]
  },
  {
   "cell_type": "code",
   "execution_count": 22,
   "id": "77a67cd7",
   "metadata": {},
   "outputs": [
    {
     "name": "stdout",
     "output_type": "stream",
     "text": [
      "boo\n"
     ]
    }
   ],
   "source": [
    "if('p' in validTypes): print('yay')\n",
    "else: print('boo')"
   ]
  },
  {
   "cell_type": "code",
   "execution_count": 24,
   "id": "6dfd039d",
   "metadata": {},
   "outputs": [
    {
     "name": "stdout",
     "output_type": "stream",
     "text": [
      "[8, 6, 1, 1]\n",
      "[8, 5, 2, 1]\n",
      "[8, 5, 2, 1]\n"
     ]
    }
   ],
   "source": [
    "for a in solutionSet:\n",
    "    print(a)"
   ]
  },
  {
   "cell_type": "code",
   "execution_count": 25,
   "id": "881e84dd",
   "metadata": {},
   "outputs": [
    {
     "data": {
      "text/plain": [
       "[8, 5, 2, 1]"
      ]
     },
     "execution_count": 25,
     "metadata": {},
     "output_type": "execute_result"
    }
   ],
   "source": [
    "a"
   ]
  },
  {
   "cell_type": "code",
   "execution_count": 26,
   "id": "3ad254c5",
   "metadata": {},
   "outputs": [
    {
     "ename": "AttributeError",
     "evalue": "'list' object has no attribute 'print'",
     "output_type": "error",
     "traceback": [
      "\u001b[1;31m---------------------------------------------------------------------------\u001b[0m",
      "\u001b[1;31mAttributeError\u001b[0m                            Traceback (most recent call last)",
      "Cell \u001b[1;32mIn[26], line 1\u001b[0m\n\u001b[1;32m----> 1\u001b[0m a\u001b[38;5;241m.\u001b[39mprint()\n",
      "\u001b[1;31mAttributeError\u001b[0m: 'list' object has no attribute 'print'"
     ]
    }
   ],
   "source": [
    "a.print()"
   ]
  },
  {
   "cell_type": "code",
   "execution_count": 28,
   "id": "a32adf81",
   "metadata": {},
   "outputs": [
    {
     "name": "stdout",
     "output_type": "stream",
     "text": [
      "8 + 6 + 1 + 1\n",
      "8 + 5 + 2 + 1\n",
      "8 + 5 + 2 + 1\n"
     ]
    }
   ],
   "source": [
    "for a in solutionSet:\n",
    "    print(*a, sep = ' + ') # Hot damn this is a cool trick"
   ]
  },
  {
   "cell_type": "code",
   "execution_count": 29,
   "id": "be30dd57",
   "metadata": {},
   "outputs": [
    {
     "ename": "SyntaxError",
     "evalue": "invalid syntax (4192075233.py, line 2)",
     "output_type": "error",
     "traceback": [
      "\u001b[1;36m  Cell \u001b[1;32mIn[29], line 2\u001b[1;36m\u001b[0m\n\u001b[1;33m    print('16 = ' + *a, sep = ' + ')\u001b[0m\n\u001b[1;37m                    ^\u001b[0m\n\u001b[1;31mSyntaxError\u001b[0m\u001b[1;31m:\u001b[0m invalid syntax\n"
     ]
    }
   ],
   "source": [
    "for a in solutionSet:\n",
    "    print('16 = ' + *a, sep = ' + ')"
   ]
  },
  {
   "cell_type": "code",
   "execution_count": 31,
   "id": "4a58fd80",
   "metadata": {},
   "outputs": [
    {
     "name": "stdout",
     "output_type": "stream",
     "text": [
      "16 = \n",
      "8 + 6 + 1 + 1\n",
      "8 + 5 + 2 + 1\n",
      "8 + 5 + 2 + 1\n"
     ]
    }
   ],
   "source": [
    "print('16 = ')\n",
    "for a in solutionSet:\n",
    "    print(*a, sep = ' + ')"
   ]
  },
  {
   "cell_type": "code",
   "execution_count": 36,
   "id": "dcbb561e",
   "metadata": {},
   "outputs": [
    {
     "name": "stdout",
     "output_type": "stream",
     "text": [
      "16 = \n",
      "     8 + 6 + 1 + 1\n",
      "     8 + 5 + 2 + 1\n",
      "     8 + 5 + 2 + 1\n"
     ]
    }
   ],
   "source": [
    "print('16 = ')\n",
    "for a in solutionSet:\n",
    "    print('     ' + ' + '.join(map(str, a)))"
   ]
  },
  {
   "cell_type": "markdown",
   "id": "74083dde",
   "metadata": {},
   "source": [
    "Alright, that's a decent way of formatting things. I'd be happy with either of them."
   ]
  },
  {
   "cell_type": "code",
   "execution_count": 39,
   "id": "517581b5",
   "metadata": {},
   "outputs": [
    {
     "name": "stdout",
     "output_type": "stream",
     "text": [
      "what's your operation?b\n",
      "error: b is an invalid type\n"
     ]
    }
   ],
   "source": [
    "a = input(\"what's your operation?\")\n",
    "if a in validTypes: print(f'{a} is a valid type')\n",
    "else: print(f'error: {a} is an invalid type')"
   ]
  },
  {
   "cell_type": "code",
   "execution_count": 40,
   "id": "add18b4d",
   "metadata": {},
   "outputs": [
    {
     "ename": "ValueError",
     "evalue": "invalid literal for int() with base 10: 'b'",
     "output_type": "error",
     "traceback": [
      "\u001b[1;31m---------------------------------------------------------------------------\u001b[0m",
      "\u001b[1;31mValueError\u001b[0m                                Traceback (most recent call last)",
      "Cell \u001b[1;32mIn[40], line 1\u001b[0m\n\u001b[1;32m----> 1\u001b[0m \u001b[38;5;28mint\u001b[39m(\u001b[38;5;124m'\u001b[39m\u001b[38;5;124mb\u001b[39m\u001b[38;5;124m'\u001b[39m)\n",
      "\u001b[1;31mValueError\u001b[0m: invalid literal for int() with base 10: 'b'"
     ]
    }
   ],
   "source": [
    "int('b')"
   ]
  },
  {
   "cell_type": "code",
   "execution_count": 43,
   "id": "8b67d5f5",
   "metadata": {},
   "outputs": [
    {
     "name": "stdout",
     "output_type": "stream",
     "text": [
      "this isn't an integer\n"
     ]
    }
   ],
   "source": [
    "try:\n",
    "    int('1d')\n",
    "except ValueError:\n",
    "    print(\"this isn't an integer\")\n",
    "except:\n",
    "    print('something went wrong!')\n",
    "else:\n",
    "    print(\"no it's fine actually\")"
   ]
  },
  {
   "cell_type": "code",
   "execution_count": 46,
   "id": "1a5a67c2",
   "metadata": {},
   "outputs": [
    {
     "name": "stdout",
     "output_type": "stream",
     "text": [
      "what's the solution value? butts\n",
      "this isn't an integer\n"
     ]
    }
   ],
   "source": [
    "try:\n",
    "    a = int(input(\"what's the solution value? \"))\n",
    "except ValueError:\n",
    "    print(\"this isn't an integer\")\n",
    "except:\n",
    "    print('something went wrong!')\n",
    "else:\n",
    "    print(\"no it's fine actually\")"
   ]
  },
  {
   "cell_type": "code",
   "execution_count": 49,
   "id": "59c27962",
   "metadata": {},
   "outputs": [
    {
     "data": {
      "text/plain": [
       "[[9, 4], [8, 3], [7, 2], [6, 1]]"
      ]
     },
     "execution_count": 49,
     "metadata": {},
     "output_type": "execute_result"
    }
   ],
   "source": [
    "# Let's mess around with a simple algorithm for the subtraction.\n",
    "# It's simpler because (a) there's only two numbers, and (b) thus no possibility for repeats.\n",
    "\n",
    "outputVal = 5\n",
    "maxVal = 9\n",
    "solutionSet = list()\n",
    "\n",
    "# Our range of first numbers is from the maximum value to one more than the output, in descending order.\n",
    "for i in range(maxVal, outputVal, -1):\n",
    "    solutionSet.append([i, i - outputVal])\n",
    "\n",
    "solutionSet"
   ]
  },
  {
   "cell_type": "code",
   "execution_count": 52,
   "id": "ccea4fc6",
   "metadata": {},
   "outputs": [
    {
     "name": "stdout",
     "output_type": "stream",
     "text": [
      "5 = \n",
      "    9 - 4\n",
      "    8 - 3\n",
      "    7 - 2\n",
      "    6 - 1\n"
     ]
    }
   ],
   "source": [
    "# Sick, that's literally all I need. So let's output that.\n",
    "\n",
    "outputString = str(outputVal) + ' = '\n",
    "print(outputString)\n",
    "for a in solutionSet:\n",
    "    print(' ' * len(outputString) + ' - '.join(map(str, a)))"
   ]
  },
  {
   "cell_type": "code",
   "execution_count": 29,
   "id": "5e20c580",
   "metadata": {},
   "outputs": [],
   "source": [
    "# Alright, let's formalize a couple of functions here.\n",
    "\n",
    "def subtractSet(outputVal, maxVal):\n",
    "    solutionSet = list()\n",
    "    \n",
    "    # Our range of first numbers is from the maximum value to one more than the output, in descending order.\n",
    "    for i in range(maxVal, outputVal, -1):\n",
    "        solutionSet.append([i, i - outputVal])\n",
    "    \n",
    "    return solutionSet\n",
    "\n",
    "def outputSolution(outputVal, operator, solutionSet):\n",
    "    outputString = str(outputVal) + ' = '\n",
    "    joinString = ' ' + operator + ' '\n",
    "    \n",
    "    print(outputString)\n",
    "    for a in solutionSet:\n",
    "        print(' ' * len(outputString) + joinString.join(map(str, a)))"
   ]
  },
  {
   "cell_type": "code",
   "execution_count": 59,
   "id": "75424556",
   "metadata": {},
   "outputs": [
    {
     "name": "stdout",
     "output_type": "stream",
     "text": [
      "3 = \n",
      "    9 - 6\n",
      "    8 - 5\n",
      "    7 - 4\n",
      "    6 - 3\n",
      "    5 - 2\n",
      "    4 - 1\n"
     ]
    }
   ],
   "source": [
    "outputSolution(3, '-', subtractSet(3, 9))"
   ]
  },
  {
   "cell_type": "code",
   "execution_count": 60,
   "id": "ffd6e44b",
   "metadata": {},
   "outputs": [
    {
     "name": "stdout",
     "output_type": "stream",
     "text": [
      "16 = \n",
      "     8 + 6 + 1 + 1\n",
      "     8 + 5 + 2 + 1\n",
      "     8 + 4 + 3 + 1\n",
      "     8 + 4 + 2 + 2\n",
      "     8 + 3 + 3 + 2\n"
     ]
    }
   ],
   "source": [
    "# Proof of concept here.\n",
    "solutionSet = list()\n",
    "solutionSet.append([8,6,1,1])\n",
    "solutionSet.append([8,5,2,1])\n",
    "solutionSet.append([8,4,3,1])\n",
    "solutionSet.append([8,4,2,2])\n",
    "solutionSet.append([8,3,3,2])\n",
    "\n",
    "outputSolution(16, '+', solutionSet)"
   ]
  },
  {
   "cell_type": "markdown",
   "id": "81a1d02e",
   "metadata": {},
   "source": [
    "Now, how do we do division?\n",
    "\n",
    "We have our solution value (e.g., 4) and our maxVal (e.g., 8).\n",
    "\n",
    "Obviously, 8 / 4 = 2, so one solution is (8,2). However, we must also go to (4,1).\n",
    "\n",
    "Probably, check each value descending. 7 mod 4 is not 0, so we ignore. 6 mod 4 is not 0, so we ignore. 5 mod 4 is not 0, so we ignore. 4 mod 4 *is* 0, so we divide.\n",
    "\n",
    "Alright, that's the iteration."
   ]
  },
  {
   "cell_type": "code",
   "execution_count": 16,
   "id": "ca271b7b",
   "metadata": {},
   "outputs": [],
   "source": [
    "def divideSet(outputVal, maxVal):\n",
    "    solutionSet = list()\n",
    "    \n",
    "    # Our range of first numbers is from the maximum value to the output, in descending order.\n",
    "    for i in range(maxVal, outputVal - 1, -1):\n",
    "        \n",
    "        # We only want whole-number solutions.\n",
    "        if i % outputVal == 0:\n",
    "            solutionSet.append([i, int(i / outputVal)])\n",
    "    \n",
    "    return solutionSet"
   ]
  },
  {
   "cell_type": "code",
   "execution_count": 70,
   "id": "c3cc49e4",
   "metadata": {},
   "outputs": [
    {
     "data": {
      "text/plain": [
       "[[8, 4], [6, 3], [4, 2], [2, 1]]"
      ]
     },
     "execution_count": 70,
     "metadata": {},
     "output_type": "execute_result"
    }
   ],
   "source": [
    "divideSet(2, 8)"
   ]
  },
  {
   "cell_type": "code",
   "execution_count": 71,
   "id": "3e21a809",
   "metadata": {},
   "outputs": [
    {
     "name": "stdout",
     "output_type": "stream",
     "text": [
      "2 = \n",
      "    8 / 4\n",
      "    6 / 3\n",
      "    4 / 2\n",
      "    2 / 1\n"
     ]
    }
   ],
   "source": [
    "outputSolution(2, '/', divideSet(2, 9))"
   ]
  },
  {
   "cell_type": "markdown",
   "id": "7998bc97",
   "metadata": {},
   "source": [
    "Alright, which seems less ornery, addition or multiplication?\n",
    "\n",
    "### Addition\n",
    "\n",
    "Let's see what we need to consider.\n",
    "\n",
    "```\n",
    "if solution > (maxVal + numCells - 1)\n",
    "  firstNum = maxVal\n",
    "else\n",
    "  firstNum = solution - numCells + 1\n",
    "end\n",
    "```\n",
    "\n",
    "Is 16 > (8 + 4 - 1)? 16 > 11, so YES; `firstNum = 8`\n",
    "Is 5 > (9 + 2 - 1)? 5 < 10 so NO; `firstNum = 5 - 2 + 1 = 4`\n",
    "\n",
    "I think we need to go recursive. If `numCells = 2`, just find the numbers that add to X. Otherwise, redefine the problem in terms of the remainder.\n",
    "\n",
    "```\n",
    "if numCells > 2\n",
    "  solveAddition(solution - firstNum, numCells - 1, repetition, maxVal)\n",
    "else\n",
    "  # Just find the actual numbers that add to X.\n",
    "end\n",
    "```\n",
    "\n",
    "So for 16, we are left with finding numbers that add to 8, 3 cells, 1 repetition, `maxVal = 8.`\n",
    "\n",
    "For that, we then have:\n",
    "* Is 8 > (8 + 3 - 1)? 8 < 10, so NO; `firstNum = 8 - 3 + 1 = 6`\n",
    "\n",
    "We still have 3 cells, so solve again. `solveAddition(2, 2, 1, 8)`\n",
    "* Is 2 > (8 + 2 - 1)? 2 < 9, so NO; `firstNum = 2 - 2 + 1 = 1`\n",
    "\n",
    "We have two cells; solve.\n",
    "* Only answer is 1 + 1.\n",
    "\n",
    "Go back up the chain.\n",
    "\n",
    "Now, the other part of the loop. We need to loop such that:\n",
    "1. In the two-cell solver, we go through all iterations until the first number is equal to (if repetition is permitted) or no more than one greater than the second.\n",
    "2. In the multi-cell solver, after the previous iteration is done, we decrement the first number and go from there until we return an invalid combination.\n",
    "\n",
    "Invalid combinations are not logged but simply flagged for continuing the loop until there are no more combos. Or do I add the flag to the list and any that have that contain the flag deleted? Or do I simply stop before I get to an invalid entry? Hm. I probably need a final iteration that checks for the permitted number of repetitions."
   ]
  },
  {
   "cell_type": "markdown",
   "id": "57942327",
   "metadata": {},
   "source": [
    "### Multiplication\n",
    "\n",
    "So this comes down to \"do I prime factor this or just divide and hope for the best?\"\n",
    "\n",
    "Two-digit multiplication is easy: do what we did before but kind of in reverse.\n",
    "\n",
    "63 = 7 * 9, so with 63 and `maxVal = 9`, we anchor `firstNum` at maxVal, and run through every number below it doing division until we get one that works. Then we iterate down until we get down to `ceil(sqrt(63))`."
   ]
  },
  {
   "cell_type": "code",
   "execution_count": 86,
   "id": "07a329af",
   "metadata": {},
   "outputs": [
    {
     "name": "stdout",
     "output_type": "stream",
     "text": [
      "[[9, 1], [3, 3]]\n"
     ]
    }
   ],
   "source": [
    "import math\n",
    "\n",
    "outputVal = 9\n",
    "maxVal = 9\n",
    "solutionSet = list()\n",
    "\n",
    "outputVal ** 0.5\n",
    "lastVal = math.ceil(math.sqrt(outputVal))\n",
    "\n",
    "# Our range of first numbers is from the maximum value to the square root of the output, rounded up, in descending order.\n",
    "for i in range(maxVal, lastVal - 1, -1):\n",
    "    if outputVal % i == 0:\n",
    "        solutionSet.append([i, int(outputVal / i)])\n",
    "\n",
    "print(solutionSet)"
   ]
  },
  {
   "cell_type": "markdown",
   "id": "3c8101f6",
   "metadata": {},
   "source": [
    "Once again, two digits is easy, but getting 3+ will require finagling. Maybe it's fundamentally the same as the addition algorithm?"
   ]
  },
  {
   "cell_type": "code",
   "execution_count": 88,
   "id": "ced08c95",
   "metadata": {},
   "outputs": [
    {
     "name": "stdout",
     "output_type": "stream",
     "text": [
      "[[8, 9, 1], [8, 3, 3]]\n"
     ]
    }
   ],
   "source": [
    "solutionSuperset = list()\n",
    "for a in solutionSet:\n",
    "    solutionSuperset.append([8] + a)\n",
    "\n",
    "print(solutionSuperset)"
   ]
  },
  {
   "cell_type": "code",
   "execution_count": 93,
   "id": "ce9e1d91",
   "metadata": {},
   "outputs": [
    {
     "data": {
      "text/plain": [
       "[[8, 9, 1], [9, 8, 1]]"
      ]
     },
     "execution_count": 93,
     "metadata": {},
     "output_type": "execute_result"
    }
   ],
   "source": [
    "solutionSuperset = list()\n",
    "solutionSuperset.append([8,9,1])\n",
    "solutionSuperset.append([9,8,1])\n",
    "\n",
    "solutionSuperset"
   ]
  },
  {
   "cell_type": "markdown",
   "id": "5be81466",
   "metadata": {},
   "source": [
    "Sidebar: these two will likely need to be detected as duplicates. So we need to add a sorting logic. Or we need to change the `maxVal` we send in to the iteration."
   ]
  },
  {
   "cell_type": "code",
   "execution_count": 17,
   "id": "6974c241",
   "metadata": {},
   "outputs": [],
   "source": [
    "import math\n",
    "\n",
    "def multiplySet(outputVal, maxVal, boxSize):\n",
    "    solutionSet = list()\n",
    "    \n",
    "    lastVal = math.ceil(outputVal ** (1 / boxSize))\n",
    "    \n",
    "    # Our range of first numbers is from the maximum value to the box-size root of the output, rounded up, \n",
    "    # in descending order.\n",
    "    for i in range(maxVal, lastVal - 1, -1):\n",
    "        # Whole-number results only.\n",
    "        if outputVal % i == 0:\n",
    "            # If we have only two numbers, then we can work with this. Otherwise, we need to recurse.\n",
    "            if boxSize == 2:\n",
    "                solutionSet.append([i, int(outputVal / i)])\n",
    "            else:\n",
    "                # Iteration rules: we are now multiplying to N / i, our max value is now i (to prevent duplication),\n",
    "                # and our box size is reduced by one.\n",
    "                solutionSubSet = multiplySet(int(outputVal / i), i, boxSize - 1)\n",
    "                \n",
    "                for a in solutionSubSet:\n",
    "                    solutionSet.append([i] + a)\n",
    "    \n",
    "    return solutionSet"
   ]
  },
  {
   "cell_type": "code",
   "execution_count": 118,
   "id": "1b2908a6",
   "metadata": {},
   "outputs": [
    {
     "data": {
      "text/plain": [
       "[[8, 7, 4, 1], [8, 7, 2, 2], [7, 4, 4, 2]]"
      ]
     },
     "execution_count": 118,
     "metadata": {},
     "output_type": "execute_result"
    }
   ],
   "source": [
    "multiplySet(224, 9, 4)"
   ]
  },
  {
   "cell_type": "code",
   "execution_count": 106,
   "id": "f855fd15",
   "metadata": {},
   "outputs": [
    {
     "name": "stdout",
     "output_type": "stream",
     "text": [
      "9\n"
     ]
    }
   ],
   "source": [
    "for i in range(9,8,-1): print(i)"
   ]
  },
  {
   "cell_type": "code",
   "execution_count": 119,
   "id": "8dc78cae",
   "metadata": {},
   "outputs": [
    {
     "data": {
      "text/plain": [
       "[[9, 8, 5, 1], [9, 5, 4, 2], [8, 5, 3, 3], [6, 6, 5, 2], [6, 5, 4, 3]]"
      ]
     },
     "execution_count": 119,
     "metadata": {},
     "output_type": "execute_result"
    }
   ],
   "source": [
    "multiplySet(360, 9, 4)"
   ]
  },
  {
   "cell_type": "code",
   "execution_count": 121,
   "id": "a5f05730",
   "metadata": {},
   "outputs": [
    {
     "data": {
      "text/plain": [
       "[[9, 8, 4, 1],\n",
       " [9, 8, 2, 2],\n",
       " [9, 4, 4, 2],\n",
       " [8, 6, 6, 1],\n",
       " [8, 6, 3, 2],\n",
       " [8, 4, 3, 3],\n",
       " [6, 6, 4, 2],\n",
       " [6, 4, 4, 3]]"
      ]
     },
     "execution_count": 121,
     "metadata": {},
     "output_type": "execute_result"
    }
   ],
   "source": [
    "multiplySet(288, 9, 4)"
   ]
  },
  {
   "cell_type": "code",
   "execution_count": 122,
   "id": "def3336f",
   "metadata": {},
   "outputs": [
    {
     "name": "stdout",
     "output_type": "stream",
     "text": [
      "288 = \n",
      "      9 * 8 * 4 * 1\n",
      "      9 * 8 * 2 * 2\n",
      "      9 * 4 * 4 * 2\n",
      "      8 * 6 * 6 * 1\n",
      "      8 * 6 * 3 * 2\n",
      "      8 * 4 * 3 * 3\n",
      "      6 * 6 * 4 * 2\n",
      "      6 * 4 * 4 * 3\n"
     ]
    }
   ],
   "source": [
    "outputSolution(288, '*', multiplySet(288, 9, 4))"
   ]
  },
  {
   "cell_type": "code",
   "execution_count": 18,
   "id": "9eee3309",
   "metadata": {},
   "outputs": [],
   "source": [
    "def addSet(outputVal, maxVal, boxSize):\n",
    "    solutionSet = list()\n",
    "    \n",
    "    lastVal = math.ceil(outputVal / boxSize)\n",
    "    \n",
    "    # Our range of first numbers is from the maximum value to the dividend of the output and box size, \n",
    "    # rounded up, in descending order.\n",
    "    for i in range(maxVal, lastVal - 1, -1):\n",
    "        # Make sure we don't run into negative numbers.\n",
    "        if outputVal > i:\n",
    "            # If we have only two numbers, then we can work with this. Otherwise, we need to recurse.\n",
    "            if boxSize == 2:\n",
    "                solutionSet.append([i, outputVal - i])\n",
    "            else:\n",
    "                # Iteration rules: we are now adding to N - i, our max value is now i (to prevent duplication),\n",
    "                # and our box size is reduced by one.\n",
    "                solutionSubSet = addSet(outputVal - i, i, boxSize - 1)\n",
    "\n",
    "                for a in solutionSubSet:\n",
    "                    solutionSet.append([i] + a)\n",
    "    \n",
    "    return solutionSet"
   ]
  },
  {
   "cell_type": "code",
   "execution_count": 182,
   "id": "edcf5236",
   "metadata": {},
   "outputs": [
    {
     "data": {
      "text/plain": [
       "[[9, 5, 1, 1],\n",
       " [9, 4, 2, 1],\n",
       " [9, 3, 3, 1],\n",
       " [9, 3, 2, 2],\n",
       " [8, 6, 1, 1],\n",
       " [8, 5, 2, 1],\n",
       " [8, 4, 3, 1],\n",
       " [8, 4, 2, 2],\n",
       " [8, 3, 3, 2],\n",
       " [7, 7, 1, 1],\n",
       " [7, 6, 2, 1],\n",
       " [7, 5, 3, 1],\n",
       " [7, 5, 2, 2],\n",
       " [7, 4, 4, 1],\n",
       " [7, 4, 3, 2],\n",
       " [7, 3, 3, 3],\n",
       " [6, 6, 3, 1],\n",
       " [6, 6, 2, 2],\n",
       " [6, 5, 4, 1],\n",
       " [6, 5, 3, 2],\n",
       " [6, 4, 4, 2],\n",
       " [6, 4, 3, 3],\n",
       " [5, 5, 5, 1],\n",
       " [5, 5, 4, 2],\n",
       " [5, 5, 3, 3],\n",
       " [5, 4, 4, 3],\n",
       " [4, 4, 4, 4]]"
      ]
     },
     "execution_count": 182,
     "metadata": {},
     "output_type": "execute_result"
    }
   ],
   "source": [
    "addSet(16, 9, 4)"
   ]
  },
  {
   "cell_type": "code",
   "execution_count": 151,
   "id": "f122e0bf",
   "metadata": {},
   "outputs": [
    {
     "name": "stdout",
     "output_type": "stream",
     "text": [
      "0\n",
      "1\n",
      "0\n",
      "0\n",
      "0\n",
      "0\n",
      "1\n",
      "1\n",
      "0\n",
      "0\n",
      "0\n",
      "0\n",
      "0\n",
      "2\n",
      "1\n",
      "0\n",
      "0\n",
      "0\n",
      "1\n",
      "0\n",
      "2\n",
      "1\n",
      "0\n",
      "1\n",
      "0\n",
      "2\n",
      "4\n"
     ]
    }
   ],
   "source": [
    "a = addSet(16, 9, 4)\n",
    "\n",
    "for solution in a:\n",
    "    print(solution.count(4))"
   ]
  },
  {
   "cell_type": "code",
   "execution_count": 19,
   "id": "7eceec75",
   "metadata": {},
   "outputs": [],
   "source": [
    "def pruneRepeats(solutionSet, maxVal, repeats):\n",
    "    remove = False\n",
    "    newSolutionSet = solutionSet\n",
    "    \n",
    "    for sol in solutionSet:\n",
    "        counts = list()\n",
    "        for i in range(maxVal, 0, -1):\n",
    "            counts.append(sol.count(i))\n",
    "            if sol.count(i) > 2:\n",
    "                remove = True\n",
    "        \n",
    "        if remove:\n",
    "            newSolutionSet.remove(sol)\n",
    "            remove = False\n",
    "    \n",
    "    return newSolutionSet"
   ]
  },
  {
   "cell_type": "code",
   "execution_count": 188,
   "id": "8638ad02",
   "metadata": {},
   "outputs": [
    {
     "name": "stdout",
     "output_type": "stream",
     "text": [
      "16 = \n",
      "     9 + 5 + 1 + 1\n",
      "     9 + 4 + 2 + 1\n",
      "     9 + 3 + 3 + 1\n",
      "     9 + 3 + 2 + 2\n",
      "     8 + 6 + 1 + 1\n",
      "     8 + 5 + 2 + 1\n",
      "     8 + 4 + 3 + 1\n",
      "     8 + 4 + 2 + 2\n",
      "     8 + 3 + 3 + 2\n",
      "     7 + 7 + 1 + 1\n",
      "     7 + 6 + 2 + 1\n",
      "     7 + 5 + 3 + 1\n",
      "     7 + 5 + 2 + 2\n",
      "     7 + 4 + 4 + 1\n",
      "     7 + 4 + 3 + 2\n",
      "     7 + 3 + 3 + 3\n",
      "     6 + 6 + 3 + 1\n",
      "     6 + 6 + 2 + 2\n",
      "     6 + 5 + 4 + 1\n",
      "     6 + 5 + 3 + 2\n",
      "     6 + 4 + 4 + 2\n",
      "     6 + 4 + 3 + 3\n",
      "     5 + 5 + 5 + 1\n",
      "     5 + 5 + 4 + 2\n",
      "     5 + 5 + 3 + 3\n",
      "     5 + 4 + 4 + 3\n",
      "     4 + 4 + 4 + 4\n"
     ]
    }
   ],
   "source": [
    "solutionSet = addSet(16, 9, 4)\n",
    "outputSolution(16, '+', solutionSet)"
   ]
  },
  {
   "cell_type": "code",
   "execution_count": 190,
   "id": "4e9a2e23",
   "metadata": {},
   "outputs": [
    {
     "name": "stdout",
     "output_type": "stream",
     "text": [
      "16 = \n",
      "     9 + 5 + 1 + 1\n",
      "     9 + 4 + 2 + 1\n",
      "     9 + 3 + 3 + 1\n",
      "     9 + 3 + 2 + 2\n",
      "     8 + 6 + 1 + 1\n",
      "     8 + 5 + 2 + 1\n",
      "     8 + 4 + 3 + 1\n",
      "     8 + 4 + 2 + 2\n",
      "     8 + 3 + 3 + 2\n",
      "     7 + 6 + 2 + 1\n",
      "     7 + 5 + 3 + 1\n",
      "     7 + 5 + 2 + 2\n",
      "     7 + 4 + 4 + 1\n",
      "     7 + 4 + 3 + 2\n",
      "     6 + 6 + 3 + 1\n",
      "     6 + 5 + 4 + 1\n",
      "     6 + 5 + 3 + 2\n",
      "     6 + 4 + 4 + 2\n",
      "     6 + 4 + 3 + 3\n",
      "     5 + 5 + 4 + 2\n",
      "     5 + 4 + 4 + 3\n"
     ]
    }
   ],
   "source": [
    "newSolutionSet = pruneRepeats(solutionSet, 9, 1)\n",
    "outputSolution(16, '+', newSolutionSet)"
   ]
  },
  {
   "cell_type": "code",
   "execution_count": 162,
   "id": "09d1658e",
   "metadata": {},
   "outputs": [
    {
     "data": {
      "text/plain": [
       "2"
      ]
     },
     "execution_count": 162,
     "metadata": {},
     "output_type": "execute_result"
    }
   ],
   "source": [
    "len(set([7,7,1,1]))"
   ]
  },
  {
   "cell_type": "code",
   "execution_count": 169,
   "id": "c9a36dd3",
   "metadata": {},
   "outputs": [
    {
     "name": "stdout",
     "output_type": "stream",
     "text": [
      "Help on function multiplySet in module __main__:\n",
      "\n",
      "multiplySet(outputVal, maxVal, boxSize)\n",
      "\n"
     ]
    }
   ],
   "source": [
    "help(multiplySet)"
   ]
  },
  {
   "cell_type": "code",
   "execution_count": 170,
   "id": "e0fc0adc",
   "metadata": {},
   "outputs": [
    {
     "data": {
      "text/plain": [
       "[[9, 1, 1, 1, 1], [3, 3, 1, 1, 1]]"
      ]
     },
     "execution_count": 170,
     "metadata": {},
     "output_type": "execute_result"
    }
   ],
   "source": [
    "multiplySet(9, 9, 5)"
   ]
  },
  {
   "cell_type": "code",
   "execution_count": 178,
   "id": "4c0a0b1a",
   "metadata": {},
   "outputs": [
    {
     "data": {
      "text/plain": [
       "2"
      ]
     },
     "execution_count": 178,
     "metadata": {},
     "output_type": "execute_result"
    }
   ],
   "source": [
    "numRepeats = 2\n",
    "maxRepeats = 3\n",
    "length = 5\n",
    "\n",
    "5 - 2 - 3 + 2"
   ]
  },
  {
   "cell_type": "code",
   "execution_count": 177,
   "id": "86244bfa",
   "metadata": {},
   "outputs": [
    {
     "data": {
      "text/plain": [
       "2"
      ]
     },
     "execution_count": 177,
     "metadata": {},
     "output_type": "execute_result"
    }
   ],
   "source": [
    "numRepeats = 1\n",
    "maxRepeats = 3\n",
    "length = 4\n",
    "\n",
    "4 - 1 - 3 + 2"
   ]
  },
  {
   "cell_type": "code",
   "execution_count": 181,
   "id": "6ac63837",
   "metadata": {},
   "outputs": [
    {
     "data": {
      "text/plain": [
       "[[9, 5, 1, 1],\n",
       " [9, 4, 2, 1],\n",
       " [9, 3, 3, 1],\n",
       " [9, 3, 2, 2],\n",
       " [8, 6, 1, 1],\n",
       " [8, 5, 2, 1],\n",
       " [8, 4, 3, 1],\n",
       " [8, 4, 2, 2],\n",
       " [8, 3, 3, 2],\n",
       " [7, 6, 2, 1],\n",
       " [7, 5, 3, 1],\n",
       " [7, 5, 2, 2],\n",
       " [7, 4, 4, 1],\n",
       " [7, 4, 3, 2],\n",
       " [6, 6, 3, 1],\n",
       " [6, 5, 4, 1],\n",
       " [6, 5, 3, 2],\n",
       " [6, 4, 4, 2],\n",
       " [6, 4, 3, 3],\n",
       " [5, 5, 4, 2],\n",
       " [5, 4, 4, 3]]"
      ]
     },
     "execution_count": 181,
     "metadata": {},
     "output_type": "execute_result"
    }
   ],
   "source": [
    "solutionSet"
   ]
  },
  {
   "cell_type": "markdown",
   "id": "f4af54c9",
   "metadata": {},
   "source": [
    "Alright, we have an edge case here. What if we have a zig-zag box of form:\n",
    "\n",
    "```\n",
    " __ __\n",
    "|__|__|__\n",
    "   |__|__|\n",
    "      |__|\n",
    "```\n",
    "\n",
    "Which I've definitely seen before. You could have a repeated set of two and a repeated set of 3. I want to be able to account for this.\n",
    "\n",
    "New plan: what if we simply counted the number of each number in the solution, and if (a) more than the permitted number of 2's or (b) any number greater than 2 were expunged?"
   ]
  },
  {
   "cell_type": "code",
   "execution_count": 194,
   "id": "7ee1af22",
   "metadata": {},
   "outputs": [
    {
     "name": "stdout",
     "output_type": "stream",
     "text": [
      "[1, 0, 0, 0, 1, 0, 0, 0, 2]\n",
      "[1, 0, 0, 0, 0, 1, 0, 1, 1]\n",
      "[1, 0, 0, 0, 0, 0, 2, 0, 1]\n",
      "[1, 0, 0, 0, 0, 0, 1, 2, 0]\n",
      "[0, 1, 0, 1, 0, 0, 0, 0, 2]\n",
      "[0, 1, 0, 0, 1, 0, 0, 1, 1]\n",
      "[0, 1, 0, 0, 0, 1, 1, 0, 1]\n",
      "[0, 1, 0, 0, 0, 1, 0, 2, 0]\n",
      "[0, 1, 0, 0, 0, 0, 2, 1, 0]\n",
      "[0, 0, 2, 0, 0, 0, 0, 0, 2]\n",
      "[0, 0, 1, 1, 0, 0, 0, 1, 1]\n",
      "[0, 0, 1, 0, 1, 0, 1, 0, 1]\n",
      "[0, 0, 1, 0, 1, 0, 0, 2, 0]\n",
      "[0, 0, 1, 0, 0, 2, 0, 0, 1]\n",
      "[0, 0, 1, 0, 0, 1, 1, 1, 0]\n",
      "[0, 0, 1, 0, 0, 0, 3, 0, 0]\n",
      "[0, 0, 0, 2, 0, 0, 1, 0, 1]\n",
      "[0, 0, 0, 2, 0, 0, 0, 2, 0]\n",
      "[0, 0, 0, 1, 1, 1, 0, 0, 1]\n",
      "[0, 0, 0, 1, 1, 0, 1, 1, 0]\n",
      "[0, 0, 0, 1, 0, 2, 0, 1, 0]\n",
      "[0, 0, 0, 1, 0, 1, 2, 0, 0]\n",
      "[0, 0, 0, 0, 3, 0, 0, 0, 1]\n",
      "[0, 0, 0, 0, 2, 1, 0, 1, 0]\n",
      "[0, 0, 0, 0, 2, 0, 2, 0, 0]\n",
      "[0, 0, 0, 0, 1, 2, 1, 0, 0]\n",
      "[0, 0, 0, 0, 0, 4, 0, 0, 0]\n"
     ]
    }
   ],
   "source": [
    "for a in addSet(16, 9, 4):\n",
    "    counts = list()\n",
    "    for i in range(maxVal, 0, -1):\n",
    "        counts.append(a.count(i))\n",
    "    \n",
    "    print(counts)"
   ]
  },
  {
   "cell_type": "markdown",
   "id": "d801f6d6",
   "metadata": {},
   "source": [
    "Okay, in this list, we want to get rid of any with a 3 or 4, or any with >2 2's."
   ]
  },
  {
   "cell_type": "code",
   "execution_count": 209,
   "id": "39bf4e28",
   "metadata": {},
   "outputs": [
    {
     "name": "stdout",
     "output_type": "stream",
     "text": [
      "[2]\n",
      "[]\n",
      "[2]\n",
      "[2]\n",
      "[2]\n",
      "[]\n",
      "[]\n",
      "[2]\n",
      "[2]\n",
      "[2, 2]\n",
      "[7, 7, 1, 1]\n",
      "nope\n",
      "[]\n",
      "[]\n",
      "[2]\n",
      "[2]\n",
      "[]\n",
      "[3]\n",
      "[7, 3, 3, 3]\n",
      "blah\n",
      "[2]\n",
      "[2, 2]\n",
      "[6, 6, 2, 2]\n",
      "nope\n",
      "[]\n",
      "[]\n",
      "[2]\n",
      "[2]\n",
      "[3]\n",
      "[5, 5, 5, 1]\n",
      "blah\n",
      "[2]\n",
      "[2, 2]\n",
      "[5, 5, 3, 3]\n",
      "nope\n",
      "[2]\n",
      "[4]\n",
      "[4, 4, 4, 4]\n",
      "blah\n"
     ]
    }
   ],
   "source": [
    "for a in addSet(16, 9, 4):\n",
    "    counts = list()\n",
    "    for i in range(maxVal, 0, -1):\n",
    "        counts.append(a.count(i))\n",
    "    \n",
    "    print([j for j in counts if j >= 2])\n",
    "    \n",
    "    # This'll catch out our >2s\n",
    "    if [j for j in counts if j > 2]:\n",
    "        print(a)\n",
    "        print('blah')\n",
    "    \n",
    "    # This'll catch out multiple 2's\n",
    "    if len([j for j in counts if j >= 2]) > 1:\n",
    "        print(a)\n",
    "        print('nope')"
   ]
  },
  {
   "cell_type": "markdown",
   "id": "21cdfe88",
   "metadata": {},
   "source": [
    "Alright, redefine our function."
   ]
  },
  {
   "cell_type": "code",
   "execution_count": 20,
   "id": "58fa8afa",
   "metadata": {},
   "outputs": [],
   "source": [
    "def pruneRepeats(solutionSet, maxVal, numRepeats, maxRepeats = 2):\n",
    "    remove = False\n",
    "    newSolutionSet = solutionSet.copy() # the .copy() is vital, turns out!\n",
    "    \n",
    "    for sol in solutionSet:\n",
    "        # Count the number of each number in the solution.\n",
    "        counts = list()\n",
    "        for i in range(maxVal, 0, -1):\n",
    "            counts.append(sol.count(i))\n",
    "        \n",
    "        # If there are more than the permitted count of any given number, remove.\n",
    "        if [i for i in counts if i > maxRepeats]:\n",
    "            remove = True\n",
    "        \n",
    "        # If there are more than the permitted number of repeats, remove.\n",
    "        if len([i for i in counts if i >= maxRepeats]) > numRepeats:\n",
    "            remove = True\n",
    "        \n",
    "        # Prune and reset.\n",
    "        if remove:\n",
    "            newSolutionSet.remove(sol)\n",
    "            remove = False\n",
    "    \n",
    "    return newSolutionSet"
   ]
  },
  {
   "cell_type": "code",
   "execution_count": 238,
   "id": "4ba26993",
   "metadata": {},
   "outputs": [
    {
     "data": {
      "text/plain": [
       "[[9, 5, 1, 1],\n",
       " [9, 4, 2, 1],\n",
       " [9, 3, 3, 1],\n",
       " [9, 3, 2, 2],\n",
       " [8, 6, 1, 1],\n",
       " [8, 5, 2, 1],\n",
       " [8, 4, 3, 1],\n",
       " [8, 4, 2, 2],\n",
       " [8, 3, 3, 2],\n",
       " [7, 6, 2, 1],\n",
       " [7, 5, 3, 1],\n",
       " [7, 5, 2, 2],\n",
       " [7, 4, 4, 1],\n",
       " [7, 4, 3, 2],\n",
       " [6, 6, 3, 1],\n",
       " [6, 5, 4, 1],\n",
       " [6, 5, 3, 2],\n",
       " [6, 4, 4, 2],\n",
       " [6, 4, 3, 3],\n",
       " [5, 5, 4, 2],\n",
       " [5, 4, 4, 3]]"
      ]
     },
     "execution_count": 238,
     "metadata": {},
     "output_type": "execute_result"
    }
   ],
   "source": [
    "pruneRepeats(addSet(16, 9, 4), 9, 1)"
   ]
  },
  {
   "cell_type": "code",
   "execution_count": 234,
   "id": "6da89a56",
   "metadata": {},
   "outputs": [
    {
     "name": "stdout",
     "output_type": "stream",
     "text": [
      "1; 2\n"
     ]
    },
    {
     "data": {
      "text/plain": [
       "[[3, 3, 1, 1, 1]]"
      ]
     },
     "execution_count": 234,
     "metadata": {},
     "output_type": "execute_result"
    }
   ],
   "source": [
    "pruneRepeats(multiplySet(9, 9, 5), 9, 1, 3)"
   ]
  },
  {
   "cell_type": "code",
   "execution_count": 235,
   "id": "6f01e52c",
   "metadata": {},
   "outputs": [
    {
     "name": "stdout",
     "output_type": "stream",
     "text": [
      "[4]\n",
      "[9, 1, 1, 1, 1]\n",
      "blah\n",
      "[3]\n"
     ]
    }
   ],
   "source": [
    "for a in multiplySet(9, 9, 5):\n",
    "    counts = list()\n",
    "    for i in range(9, 0, -1):\n",
    "        counts.append(a.count(i))\n",
    "    \n",
    "    print([j for j in counts if j >= 3])\n",
    "    \n",
    "    # This'll catch out our >2s\n",
    "    if [j for j in counts if j > 3]:\n",
    "        print(a)\n",
    "        print('blah')\n",
    "    \n",
    "    # This'll catch out multiple 2's\n",
    "    if len([j for j in counts if j >= 3]) > 1:\n",
    "        print(a)\n",
    "        print('nope')"
   ]
  },
  {
   "cell_type": "code",
   "execution_count": 224,
   "id": "42599c78",
   "metadata": {},
   "outputs": [
    {
     "data": {
      "text/plain": [
       "[[9, 1, 1, 1, 1], [3, 3, 1, 1, 1]]"
      ]
     },
     "execution_count": 224,
     "metadata": {},
     "output_type": "execute_result"
    }
   ],
   "source": [
    "multiplySet(9, 9, 5)"
   ]
  },
  {
   "cell_type": "code",
   "execution_count": 239,
   "id": "7f21604c",
   "metadata": {},
   "outputs": [
    {
     "name": "stdout",
     "output_type": "stream",
     "text": [
      "Help on function addSet in module __main__:\n",
      "\n",
      "addSet(outputVal, maxVal, boxSize)\n",
      "\n"
     ]
    }
   ],
   "source": [
    "help(addSet)"
   ]
  },
  {
   "cell_type": "code",
   "execution_count": 240,
   "id": "b48169a4",
   "metadata": {},
   "outputs": [
    {
     "data": {
      "text/plain": [
       "[[7, 1, 1], [6, 2, 1], [5, 3, 1], [5, 2, 2], [4, 4, 1], [4, 3, 2], [3, 3, 3]]"
      ]
     },
     "execution_count": 240,
     "metadata": {},
     "output_type": "execute_result"
    }
   ],
   "source": [
    "addSet(9, 9, 3)"
   ]
  },
  {
   "cell_type": "code",
   "execution_count": 241,
   "id": "dc5608fc",
   "metadata": {},
   "outputs": [
    {
     "name": "stdout",
     "output_type": "stream",
     "text": [
      "Help on function pruneRepeats in module __main__:\n",
      "\n",
      "pruneRepeats(solutionSet, maxVal, numRepeats, maxRepeats=2)\n",
      "\n"
     ]
    }
   ],
   "source": [
    "help(pruneRepeats)"
   ]
  },
  {
   "cell_type": "code",
   "execution_count": 242,
   "id": "fcc7108c",
   "metadata": {},
   "outputs": [
    {
     "data": {
      "text/plain": [
       "[[6, 2, 1], [5, 3, 1], [4, 3, 2]]"
      ]
     },
     "execution_count": 242,
     "metadata": {},
     "output_type": "execute_result"
    }
   ],
   "source": [
    "pruneRepeats(addSet(9,9,3), 9, 0)"
   ]
  },
  {
   "cell_type": "markdown",
   "id": "3cedfb2d",
   "metadata": {},
   "source": [
    "Alright, it's input sanitization o'clock.\n",
    "\n",
    "The variables we need are:\n",
    "* The solution (e.g., 16)\n",
    "* The operation (e.g., `+`)\n",
    "* The max value (e.g., an 8&times;8 puzzle means the max value is 8)\n",
    "* The number of permitted repeats (e.g., `[8, 6, 1, 1]` is one; `[7, 7, 1, 1]` is two)\n",
    "* The number of times a number can be repeated (e.g., `[8, 6, 1, 1]` is two; `[5, 5, 5, 1]` is three)"
   ]
  },
  {
   "cell_type": "code",
   "execution_count": 244,
   "id": "991fd79b",
   "metadata": {},
   "outputs": [
    {
     "ename": "ValueError",
     "evalue": "invalid literal for int() with base 10: 'd'",
     "output_type": "error",
     "traceback": [
      "\u001b[1;31m---------------------------------------------------------------------------\u001b[0m",
      "\u001b[1;31mValueError\u001b[0m                                Traceback (most recent call last)",
      "Cell \u001b[1;32mIn[244], line 2\u001b[0m\n\u001b[0;32m      1\u001b[0m a \u001b[38;5;241m=\u001b[39m \u001b[38;5;241m0\u001b[39m\n\u001b[1;32m----> 2\u001b[0m a \u001b[38;5;241m=\u001b[39m \u001b[38;5;28mint\u001b[39m(\u001b[38;5;124m'\u001b[39m\u001b[38;5;124md\u001b[39m\u001b[38;5;124m'\u001b[39m)\n\u001b[0;32m      3\u001b[0m \u001b[38;5;28mtype\u001b[39m(a)\n\u001b[0;32m      4\u001b[0m \u001b[38;5;28mprint\u001b[39m(a)\n",
      "\u001b[1;31mValueError\u001b[0m: invalid literal for int() with base 10: 'd'"
     ]
    }
   ],
   "source": [
    "a = 0\n",
    "a = int('d')"
   ]
  },
  {
   "cell_type": "code",
   "execution_count": 245,
   "id": "7abf6f8a",
   "metadata": {},
   "outputs": [
    {
     "name": "stdout",
     "output_type": "stream",
     "text": [
      "0\n"
     ]
    }
   ],
   "source": [
    "type(a)\n",
    "print(a)"
   ]
  },
  {
   "cell_type": "code",
   "execution_count": 248,
   "id": "59b4a550",
   "metadata": {},
   "outputs": [
    {
     "name": "stdout",
     "output_type": "stream",
     "text": [
      "What is the solution value? d\n",
      "Error: Non-numeric value detected.\n",
      "What is the solution value? -2\n",
      "Error: Solution must be positive integer.\n",
      "What is the solution value? 3\n"
     ]
    }
   ],
   "source": [
    "# The solution must be a positive integer (i.e., >= 1)\n",
    "outputVal = 0\n",
    "while (outputVal < 1):\n",
    "    try:\n",
    "        outputVal = int(input(\"What is the solution value? \"))\n",
    "    except ValueError:\n",
    "        print(\"Error: Non-numeric value detected.\")\n",
    "    except:\n",
    "        print(\"Error: Unknown problem detected.\")\n",
    "    else:\n",
    "        if (outputVal < 1):\n",
    "            print(\"Error: Solution must be a positive integer.\")"
   ]
  },
  {
   "cell_type": "code",
   "execution_count": 247,
   "id": "74c2bade",
   "metadata": {},
   "outputs": [
    {
     "data": {
      "text/plain": [
       "3"
      ]
     },
     "execution_count": 247,
     "metadata": {},
     "output_type": "execute_result"
    }
   ],
   "source": [
    "outputVal"
   ]
  },
  {
   "cell_type": "code",
   "execution_count": 249,
   "id": "58f8339b",
   "metadata": {},
   "outputs": [
    {
     "data": {
      "text/plain": [
       "str"
      ]
     },
     "execution_count": 249,
     "metadata": {},
     "output_type": "execute_result"
    }
   ],
   "source": [
    "type('+')"
   ]
  },
  {
   "cell_type": "code",
   "execution_count": 30,
   "id": "ef94479a",
   "metadata": {},
   "outputs": [
    {
     "name": "stdout",
     "output_type": "stream",
     "text": [
      "What operation is being performed (+, -, *, or /)? +\n"
     ]
    }
   ],
   "source": [
    "# The operator must be one of four values: '+', '-', '*', '/'\n",
    "possibleOps = ('+', '-', '*', '/') # a tuple because we don't want to change it\n",
    "operator = ''\n",
    "\n",
    "# It should also be precisely one character long.\n",
    "while ((operator not in possibleOps) or (len(operator) != 1)):\n",
    "    operator = input(\"What operation is being performed (+, -, *, or /)? \")"
   ]
  },
  {
   "cell_type": "code",
   "execution_count": 31,
   "id": "25623d9b",
   "metadata": {},
   "outputs": [
    {
     "data": {
      "text/plain": [
       "'+'"
      ]
     },
     "execution_count": 31,
     "metadata": {},
     "output_type": "execute_result"
    }
   ],
   "source": [
    "operator"
   ]
  },
  {
   "cell_type": "code",
   "execution_count": 255,
   "id": "34bb0413",
   "metadata": {},
   "outputs": [
    {
     "data": {
      "text/plain": [
       "0"
      ]
     },
     "execution_count": 255,
     "metadata": {},
     "output_type": "execute_result"
    }
   ],
   "source": [
    "len('')"
   ]
  },
  {
   "cell_type": "code",
   "execution_count": 267,
   "id": "64c9a3bf",
   "metadata": {},
   "outputs": [
    {
     "name": "stdout",
     "output_type": "stream",
     "text": [
      "How big is the puzzle (e.g., '8' for an 8x8)? 2\n",
      "Error: puzzles are between 3x3 and 9x9.\n",
      "How big is the puzzle (e.g., '8' for an 8x8)? d\n",
      "Error: Non-numeric value detected.\n",
      "How big is the puzzle (e.g., '8' for an 8x8)? 0\n",
      "Error: puzzles are between 3x3 and 9x9.\n",
      "How big is the puzzle (e.g., '8' for an 8x8)? 12\n",
      "Error: puzzles are between 3x3 and 9x9.\n",
      "How big is the puzzle (e.g., '8' for an 8x8)? 5\n"
     ]
    }
   ],
   "source": [
    "# The max value is, in principle, a positive integer between 3 and 9.\n",
    "# I suppose it could be bigger but I've never seen a kenken bigger than 9x9.\n",
    "maxVal = 0\n",
    "while ((maxVal < 3) or (maxVal > 9)):\n",
    "    try:\n",
    "        maxVal = int(input(\"How big is the puzzle (e.g., '8' for an 8x8)? \"))\n",
    "    except ValueError:\n",
    "        print(\"Error: Non-numeric value detected.\")\n",
    "    except:\n",
    "        print(\"Error: Unknown problem detected.\")\n",
    "    else:\n",
    "        if ((maxVal < 3) or (maxVal > 9)):\n",
    "            print(\"Error: Kenken puzzles are between 3x3 and 9x9.\")"
   ]
  },
  {
   "cell_type": "code",
   "execution_count": 269,
   "id": "3e975632",
   "metadata": {},
   "outputs": [
    {
     "data": {
      "text/plain": [
       "False"
      ]
     },
     "execution_count": 269,
     "metadata": {},
     "output_type": "execute_result"
    }
   ],
   "source": [
    "3 >= maxVal > 9"
   ]
  },
  {
   "cell_type": "markdown",
   "id": "339c48fd",
   "metadata": {},
   "source": [
    "Ha ha ha I forgot box size okay I'm coming back up here to add it."
   ]
  },
  {
   "cell_type": "code",
   "execution_count": 39,
   "id": "32f6b088",
   "metadata": {},
   "outputs": [],
   "source": [
    "# How many cells are in the box? (Minimum: 2; Maximum...I don't know? I might not restrict that.)\n",
    "# Note also that for subtraction and division, due to their non-commutative nature, they can only\n",
    "# ever have two boxes.\n",
    "operator = '-'\n",
    "if operator in ('-', '/'):\n",
    "    boxSize = 2\n",
    "else:\n",
    "    boxSize = 0\n",
    "    while (boxSize < 2):\n",
    "        try:\n",
    "            boxSize = int(input(\"How many cells are in the box? \"))\n",
    "        except ValueError:\n",
    "            print(\"Error: Non-numeric value detected.\")\n",
    "        except:\n",
    "            print(\"Error: Unknown problem detected.\")\n",
    "        else:\n",
    "            if (boxSize < 2):\n",
    "                print(\"Error: Box must contain at least two cells.\")"
   ]
  },
  {
   "cell_type": "code",
   "execution_count": 2,
   "id": "b00ee2d6",
   "metadata": {},
   "outputs": [
    {
     "name": "stdout",
     "output_type": "stream",
     "text": [
      "How many times may a number be repeated in the box? -2\n",
      "Error: There are only 0-3 sets of repeated numbers in most kenkens.\n",
      "How many times may a number be repeated in the box? d\n",
      "Error: Non-numeric value detected.\n",
      "How many times may a number be repeated in the box? 5\n",
      "Error: There are only 0-3 sets of repeated numbers in most kenkens.\n",
      "How many times may a number be repeated in the box? 2\n"
     ]
    }
   ],
   "source": [
    "# The number of permitted repeats represents the number of times repeated numbers can show up.\n",
    "# For example, [8, 6, 1, 1] is one; [7, 7, 1, 1] is two. Generally, this number is 0-2, though\n",
    "# as many as three seems plausible.\n",
    "\n",
    "# Note also that if boxSize = 2, no repeats are possible.\n",
    "if (boxSize == 2):\n",
    "    numRepeats = 0\n",
    "else:\n",
    "    numRepeats = -1\n",
    "    while ((numRepeats < 0) or (numRepeats > 3)):\n",
    "        try:\n",
    "            numRepeats = int(input(\"How many times may a number be repeated in the box? \"))\n",
    "        except ValueError:\n",
    "            print(\"Error: Non-numeric value detected.\")\n",
    "        except:\n",
    "            print(\"Error: Unknown problem detected.\")\n",
    "        else:\n",
    "            if ((numRepeats < 0) or (numRepeats > 3)):\n",
    "                print(\"Error: There are only 0-3 sets of repeated numbers in most kenkens.\")"
   ]
  },
  {
   "cell_type": "code",
   "execution_count": 3,
   "id": "1a51b723",
   "metadata": {},
   "outputs": [
    {
     "data": {
      "text/plain": [
       "True"
      ]
     },
     "execution_count": 3,
     "metadata": {},
     "output_type": "execute_result"
    }
   ],
   "source": [
    "numRepeats = -1\n",
    "numRepeats < 0"
   ]
  },
  {
   "cell_type": "code",
   "execution_count": 4,
   "id": "62f1e280",
   "metadata": {},
   "outputs": [
    {
     "data": {
      "text/plain": [
       "False"
      ]
     },
     "execution_count": 4,
     "metadata": {},
     "output_type": "execute_result"
    }
   ],
   "source": [
    "numRepeats > 3"
   ]
  },
  {
   "cell_type": "code",
   "execution_count": 5,
   "id": "35da7965",
   "metadata": {},
   "outputs": [
    {
     "data": {
      "text/plain": [
       "True"
      ]
     },
     "execution_count": 5,
     "metadata": {},
     "output_type": "execute_result"
    }
   ],
   "source": [
    "numRepeats < 0 or numRepeats > 3"
   ]
  },
  {
   "cell_type": "code",
   "execution_count": 10,
   "id": "79505dd4",
   "metadata": {},
   "outputs": [
    {
     "name": "stdout",
     "output_type": "stream",
     "text": [
      "How many times may the same number be repeated in the box (default = 2; other valid answer = 3)? d\n",
      "Invalid input. Using default of 2.\n"
     ]
    }
   ],
   "source": [
    "# Iff numRepeats > 0, we need to know how many times any given number can be repeated.\n",
    "# Usually, it's 2. In fact, I'm going to set 2 as a default and only accept 3 as an alternative\n",
    "# because it's so unusual to even run into this sort of thing.\n",
    "if (numRepeats != 0):\n",
    "    possibleRepeats = ('2', '3') # a tuple because we don't want to change it\n",
    "    repeats = input(\"How many times may the same number be repeated in the box (default = 2; other valid answer = 3)? \")\n",
    "    \n",
    "    # It should also be precisely one character long.\n",
    "    if ((repeats not in possibleRepeats) or (len(repeats) != 1)):\n",
    "        print(\"Invalid input. Using default of 2.\")\n",
    "        maxRepeats = 2\n",
    "    else:\n",
    "        maxRepeats = int(repeats)"
   ]
  },
  {
   "cell_type": "code",
   "execution_count": 11,
   "id": "91a20e0b",
   "metadata": {},
   "outputs": [
    {
     "data": {
      "text/plain": [
       "2"
      ]
     },
     "execution_count": 11,
     "metadata": {},
     "output_type": "execute_result"
    }
   ],
   "source": [
    "maxRepeats"
   ]
  },
  {
   "cell_type": "code",
   "execution_count": 52,
   "id": "82482952",
   "metadata": {},
   "outputs": [],
   "source": [
    "# Okay, now I'm going to assign some specific values for the sake of making sure the logic of\n",
    "# the function calls works here. Then I'll ship everything over to a .py script, add more comments/\n",
    "# documentation, and pop it (and this) onto GitHub.\n",
    "outputVal = 1\n",
    "operator = '/'\n",
    "maxVal = 8\n",
    "#boxSize = 4\n",
    "#numRepeats = 1\n",
    "#maxRepeats = 2"
   ]
  },
  {
   "cell_type": "code",
   "execution_count": 53,
   "id": "5cd556ff",
   "metadata": {},
   "outputs": [
    {
     "name": "stdout",
     "output_type": "stream",
     "text": [
      "1 = \n",
      "    8 / 8\n",
      "    7 / 7\n",
      "    6 / 6\n",
      "    5 / 5\n",
      "    4 / 4\n",
      "    3 / 3\n",
      "    2 / 2\n",
      "    1 / 1\n"
     ]
    }
   ],
   "source": [
    "match operator:\n",
    "    case '+':\n",
    "        # Call the addition algorithm.\n",
    "        solutionSet = addSet(outputVal, maxVal, boxSize)\n",
    "        \n",
    "        # Cull repeats.\n",
    "        solutionSet = pruneRepeats(solutionSet, maxVal, numRepeats, maxRepeats)\n",
    "    case '-':\n",
    "        # Call the subtraction algorithm. There will be no repeats.\n",
    "        solutionSet = subtractSet(outputVal, maxVal)\n",
    "    case '*':\n",
    "        # Call the multiplication algorithm.\n",
    "        solutionSet = multiplySet(outputVal, maxVal, boxSize)\n",
    "        \n",
    "        # Cull repeats.\n",
    "        solutionSet = pruneRepeats(solutionSet, maxVal, numRepeats, maxRepeats)\n",
    "    case '/':\n",
    "        # Call the division algorithm. There will be no repeats.\n",
    "        solutionSet = divideSet(outputVal, maxVal)\n",
    "\n",
    "# Print output.\n",
    "outputSolution(outputVal, operator, solutionSet)"
   ]
  },
  {
   "cell_type": "code",
   "execution_count": 41,
   "id": "01b2deb4",
   "metadata": {},
   "outputs": [
    {
     "name": "stdout",
     "output_type": "stream",
     "text": [
      "Help on function divideSet in module __main__:\n",
      "\n",
      "divideSet(outputVal, maxVal)\n",
      "\n"
     ]
    }
   ],
   "source": [
    "help(divideSet)"
   ]
  },
  {
   "cell_type": "code",
   "execution_count": 37,
   "id": "f7813b13",
   "metadata": {},
   "outputs": [
    {
     "data": {
      "text/plain": [
       "[[8, 8]]"
      ]
     },
     "execution_count": 37,
     "metadata": {},
     "output_type": "execute_result"
    }
   ],
   "source": [
    "multiplySet(64, 8, 2)"
   ]
  },
  {
   "cell_type": "markdown",
   "id": "1499b648",
   "metadata": {},
   "source": [
    "I forgot a crucial component of `outputSolution()`: what if `solutionSet` is empty?"
   ]
  },
  {
   "cell_type": "code",
   "execution_count": 45,
   "id": "5945364e",
   "metadata": {},
   "outputs": [],
   "source": [
    "def outputSolution(outputVal, operator, solutionSet):\n",
    "    outputString = str(outputVal) + ' = '\n",
    "    joinString = ' ' + operator + ' '\n",
    "    \n",
    "    # PEP8: empty sets are False, so we can use boolean testing.\n",
    "    if solutionSet:\n",
    "        print(outputString)\n",
    "        \n",
    "        for a in solutionSet:\n",
    "            print(' ' * len(outputString) + joinString.join(map(str, a)))\n",
    "    else:\n",
    "        print('No solutions found. Check your parameters to ensure their validity.')"
   ]
  },
  {
   "cell_type": "markdown",
   "id": "5504ca49",
   "metadata": {},
   "source": [
    "Well, hello. I just found another edge case: \"1/\"\n",
    "\n",
    "Since I don't actually check for invalid combinations of number and operator (because that would be too time consuming), I'm just going to add a check in the division algorithm that if the solution is 1, we kick back a null set and dust our hands off.\n",
    "\n",
    "Actually...the only place where 1 is a valid solution is for subtraction, so that might be a case we check for in advance. Maybe we get the operation first and the solution second to make checking easier. Then we can also say \"oh, we can't have subtractions or divisions with a number > or >=, respectively, maxVal.\"\n",
    "\n",
    "Alright, I think that's enough messing around in Jupyter. Time to make a real, big-kid script."
   ]
  },
  {
   "cell_type": "code",
   "execution_count": 54,
   "id": "a45b8282",
   "metadata": {},
   "outputs": [
    {
     "ename": "NameError",
     "evalue": "name 'Inf' is not defined",
     "output_type": "error",
     "traceback": [
      "\u001b[1;31m---------------------------------------------------------------------------\u001b[0m",
      "\u001b[1;31mNameError\u001b[0m                                 Traceback (most recent call last)",
      "Cell \u001b[1;32mIn[54], line 1\u001b[0m\n\u001b[1;32m----> 1\u001b[0m Inf\n",
      "\u001b[1;31mNameError\u001b[0m: name 'Inf' is not defined"
     ]
    }
   ],
   "source": [
    "Inf"
   ]
  },
  {
   "cell_type": "code",
   "execution_count": 58,
   "id": "1f8c0375",
   "metadata": {},
   "outputs": [
    {
     "data": {
      "text/plain": [
       "False"
      ]
     },
     "execution_count": 58,
     "metadata": {},
     "output_type": "execute_result"
    }
   ],
   "source": [
    "1100 > float('inf')"
   ]
  },
  {
   "cell_type": "code",
   "execution_count": 59,
   "id": "7ae5ede9",
   "metadata": {},
   "outputs": [
    {
     "data": {
      "text/plain": [
       "False"
      ]
     },
     "execution_count": 59,
     "metadata": {},
     "output_type": "execute_result"
    }
   ],
   "source": [
    "1100 > math.inf"
   ]
  },
  {
   "cell_type": "markdown",
   "id": "13001f50",
   "metadata": {},
   "source": [
    "A few outer boundaries, which are by no means exhaustive, but enough to get a lot of the junk answers out. Here, `N` is the number of boxes and `size` is the size of the puzzle.\n",
    "\n",
    "If we wanted to account for as many things as possible, we'd probably want to ask in the following order:\n",
    "1. Puzzle `size` (*i.e.*, 8&times;8 or w/e)\n",
    "2. Operation\n",
    "   * Box size (`N`)\n",
    "     * Repeats\n",
    "        * Count\n",
    "3. Solution\n",
    "\n",
    "#### Addition:\n",
    "* Min. solution = `3`\n",
    "* Max. solution = `N * size - 1` (realistically it's more complex than this but I don't know if I feel like figuring it out)\n",
    "\n",
    "#### Subtraction:\n",
    "* Min. solution = `1`\n",
    "* Max. solution = `size - 1`\n",
    "\n",
    "#### Multiplication:\n",
    "* Min. solution = `2`\n",
    "* Max. solution = `size ^ N` (see above)\n",
    "\n",
    "#### Division:\n",
    "* Min. solution = `2`\n",
    "* Max. solution = `size`"
   ]
  },
  {
   "cell_type": "code",
   "execution_count": 60,
   "id": "2e54a808",
   "metadata": {},
   "outputs": [
    {
     "name": "stdout",
     "output_type": "stream",
     "text": [
      "Help on function multiplySet in module __main__:\n",
      "\n",
      "multiplySet(outputVal, maxVal, boxSize)\n",
      "\n"
     ]
    }
   ],
   "source": [
    "help(multiplySet)"
   ]
  },
  {
   "cell_type": "code",
   "execution_count": 61,
   "id": "a693d0fd",
   "metadata": {},
   "outputs": [
    {
     "data": {
      "text/plain": [
       "[[6, 4, 1], [6, 2, 2], [4, 3, 2]]"
      ]
     },
     "execution_count": 61,
     "metadata": {},
     "output_type": "execute_result"
    }
   ],
   "source": [
    "multiplySet(24, 6, 3)"
   ]
  },
  {
   "cell_type": "code",
   "execution_count": 62,
   "id": "dd196a97",
   "metadata": {},
   "outputs": [
    {
     "name": "stdout",
     "output_type": "stream",
     "text": [
      "Help on function pruneRepeats in module __main__:\n",
      "\n",
      "pruneRepeats(solutionSet, maxVal, numRepeats, maxRepeats=2)\n",
      "\n"
     ]
    }
   ],
   "source": [
    "help(pruneRepeats)"
   ]
  },
  {
   "cell_type": "code",
   "execution_count": 64,
   "id": "7c9acd63",
   "metadata": {},
   "outputs": [
    {
     "data": {
      "text/plain": [
       "[[6, 4, 1], [4, 3, 2]]"
      ]
     },
     "execution_count": 64,
     "metadata": {},
     "output_type": "execute_result"
    }
   ],
   "source": [
    "pruneRepeats(multiplySet(24, 6, 3), 6, 0)"
   ]
  },
  {
   "cell_type": "code",
   "execution_count": 67,
   "id": "94d03f46",
   "metadata": {},
   "outputs": [],
   "source": [
    "##### DIVISION ALGORITHM #####\n",
    "def divideSet(outputVal, maxVal):\n",
    "    '''\n",
    "    Determines which combinations will produce a quotient of outputVal given a maximum\n",
    "    possible dividend of maxVal. Note that divisions can only be two cells.\n",
    "\n",
    "    Example:  __ __  If our division problem has a notation of \"2/\", that means outputVal\n",
    "             |__|__| = 2. If it came from, say, a 6x6 puzzle then maxVal = 6.\n",
    "\n",
    "    The function returns solutionSet, a list of lists containing possible solutions. In our\n",
    "    example above, there are several possible solutions (6 / 3, 4 / 2, 2 / 1), which will\n",
    "    then be represented as [[6, 3], [4, 2], [2, 1]].\n",
    "    '''\n",
    "\n",
    "    # Create an empty list.\n",
    "    solutionSet = list()\n",
    "    \n",
    "    # Our range of dividends is from the maximum value to the output, in descending order. \n",
    "    # The divisor in each case is just the result of dividing the dividend (i) and the\n",
    "    # ultimate solution (outputVal).\n",
    "    for i in range(maxVal, outputVal - 1, -1):\n",
    "        \n",
    "        # Ignore any divisions that would produce a fractional number.\n",
    "        if i % outputVal == 0:\n",
    "            solutionSet.append([i, int(i / outputVal)]) # cast to int\n",
    "    \n",
    "    return solutionSet"
   ]
  },
  {
   "cell_type": "code",
   "execution_count": 68,
   "id": "b9ddeb5c",
   "metadata": {},
   "outputs": [
    {
     "name": "stdout",
     "output_type": "stream",
     "text": [
      "Help on function divideSet in module __main__:\n",
      "\n",
      "divideSet(outputVal, maxVal)\n",
      "    Determines which combinations will produce a quotient of outputVal given a maximum\n",
      "    possible dividend of maxVal. Note that divisions can only be two cells.\n",
      "    \n",
      "    Example:  __ __  If our division problem has a notation of \"2/\", that means outputVal\n",
      "             |__|__| = 2. If it came from, say, a 6x6 puzzle then maxVal = 6.\n",
      "    \n",
      "    The function returns solutionSet, a list of lists containing possible solutions. In our\n",
      "    example above, there are several possible solutions (6 / 3, 4 / 2, 2 / 1), which will\n",
      "    then be represented as [[6, 3], [4, 2], [2, 1]].\n",
      "\n"
     ]
    }
   ],
   "source": [
    "help(divideSet)"
   ]
  },
  {
   "cell_type": "code",
   "execution_count": 70,
   "id": "b19bda3e",
   "metadata": {},
   "outputs": [
    {
     "name": "stdout",
     "output_type": "stream",
     "text": [
      " __ __ __ __ __\n",
      "|__|__|__|__|__|\n",
      "|__|__|__|__|__|\n",
      "|__|__|__|__|__|\n",
      "|__|__|__|__|__|\n",
      "|__|__|__|__|__|\n"
     ]
    }
   ],
   "source": [
    "    print(\" __\" * 5)\n",
    "    for i in range(0,5):\n",
    "        print(\"|__\" * 5 + \"|\")"
   ]
  },
  {
   "cell_type": "code",
   "execution_count": 72,
   "id": "4fa8e0bb",
   "metadata": {},
   "outputs": [
    {
     "name": "stdout",
     "output_type": "stream",
     "text": [
      "Error: Kenken puzzles are between 3x3 and 9x9.\n"
     ]
    }
   ],
   "source": [
    "smallestKenKen = 3\n",
    "largestKenKen = 9\n",
    "print(f\"Error: Kenken puzzles are between {smallestKenKen}x{smallestKenKen} \"\\\n",
    "      f\"and {largestKenKen}x{largestKenKen}.\")"
   ]
  },
  {
   "cell_type": "code",
   "execution_count": 73,
   "id": "75ab0a17",
   "metadata": {},
   "outputs": [
    {
     "name": "stdout",
     "output_type": "stream",
     "text": [
      "Error: Kenken puzzles must be between 3x3 and 9x9.\n"
     ]
    }
   ],
   "source": [
    "print(f\"Error: Kenken puzzles must be between {smallestKenKen}x\"\\\n",
    "      f\"{smallestKenKen} and {largestKenKen}x{largestKenKen}.\")"
   ]
  },
  {
   "cell_type": "code",
   "execution_count": null,
   "id": "ea7eb4e2",
   "metadata": {},
   "outputs": [],
   "source": []
  }
 ],
 "metadata": {
  "kernelspec": {
   "display_name": "Python 3 (ipykernel)",
   "language": "python",
   "name": "python3"
  },
  "language_info": {
   "codemirror_mode": {
    "name": "ipython",
    "version": 3
   },
   "file_extension": ".py",
   "mimetype": "text/x-python",
   "name": "python",
   "nbconvert_exporter": "python",
   "pygments_lexer": "ipython3",
   "version": "3.11.4"
  }
 },
 "nbformat": 4,
 "nbformat_minor": 5
}
